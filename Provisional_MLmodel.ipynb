{
 "cells": [
  {
   "cell_type": "code",
   "execution_count": 1,
   "id": "8e41bc9b",
   "metadata": {},
   "outputs": [],
   "source": [
    "import numpy as np\n",
    "import pandas as pd\n",
    "import matplotlib.pylab as plt #for visualization\n",
    "%matplotlib inline             \n",
    "from statsmodels.tsa.stattools import adfuller\n",
    "from statsmodels.graphics.tsaplots import plot_pacf\n",
    "from pandas.plotting import autocorrelation_plot\n",
    "from statsmodels.tsa.seasonal import seasonal_decompose\n",
    "from statsmodels.tsa.arima.model import ARIMA\n",
    "from matplotlib.pylab import rcParams\n",
    "rcParams['figure.figsize'] = 10, 6"
   ]
  },
  {
   "cell_type": "code",
   "execution_count": 2,
   "id": "0ca86444",
   "metadata": {},
   "outputs": [
    {
     "data": {
      "text/html": [
       "<div>\n",
       "<style scoped>\n",
       "    .dataframe tbody tr th:only-of-type {\n",
       "        vertical-align: middle;\n",
       "    }\n",
       "\n",
       "    .dataframe tbody tr th {\n",
       "        vertical-align: top;\n",
       "    }\n",
       "\n",
       "    .dataframe thead th {\n",
       "        text-align: right;\n",
       "    }\n",
       "</style>\n",
       "<table border=\"1\" class=\"dataframe\">\n",
       "  <thead>\n",
       "    <tr style=\"text-align: right;\">\n",
       "      <th></th>\n",
       "      <th>SUMLEV</th>\n",
       "      <th>REGION</th>\n",
       "      <th>DIVISION</th>\n",
       "      <th>STATE</th>\n",
       "      <th>NAME</th>\n",
       "      <th>CENSUS2010POP</th>\n",
       "      <th>ESTIMATESBASE2010</th>\n",
       "      <th>POPESTIMATE2010</th>\n",
       "      <th>POPESTIMATE2011</th>\n",
       "      <th>POPESTIMATE2012</th>\n",
       "      <th>...</th>\n",
       "      <th>RDOMESTICMIG2019</th>\n",
       "      <th>RNETMIG2011</th>\n",
       "      <th>RNETMIG2012</th>\n",
       "      <th>RNETMIG2013</th>\n",
       "      <th>RNETMIG2014</th>\n",
       "      <th>RNETMIG2015</th>\n",
       "      <th>RNETMIG2016</th>\n",
       "      <th>RNETMIG2017</th>\n",
       "      <th>RNETMIG2018</th>\n",
       "      <th>RNETMIG2019</th>\n",
       "    </tr>\n",
       "  </thead>\n",
       "  <tbody>\n",
       "    <tr>\n",
       "      <th>0</th>\n",
       "      <td>10</td>\n",
       "      <td>0</td>\n",
       "      <td>0</td>\n",
       "      <td>0</td>\n",
       "      <td>United States</td>\n",
       "      <td>308745538</td>\n",
       "      <td>308758105</td>\n",
       "      <td>309321666</td>\n",
       "      <td>311556874</td>\n",
       "      <td>313830990</td>\n",
       "      <td>...</td>\n",
       "      <td>0.000000</td>\n",
       "      <td>2.493773</td>\n",
       "      <td>2.682083</td>\n",
       "      <td>2.636187</td>\n",
       "      <td>2.921500</td>\n",
       "      <td>3.260435</td>\n",
       "      <td>3.252788</td>\n",
       "      <td>2.871957</td>\n",
       "      <td>2.153911</td>\n",
       "      <td>1.818059</td>\n",
       "    </tr>\n",
       "    <tr>\n",
       "      <th>1</th>\n",
       "      <td>20</td>\n",
       "      <td>1</td>\n",
       "      <td>0</td>\n",
       "      <td>0</td>\n",
       "      <td>Northeast Region</td>\n",
       "      <td>55317240</td>\n",
       "      <td>55318443</td>\n",
       "      <td>55380134</td>\n",
       "      <td>55604223</td>\n",
       "      <td>55775216</td>\n",
       "      <td>...</td>\n",
       "      <td>-5.254530</td>\n",
       "      <td>0.887909</td>\n",
       "      <td>-0.038355</td>\n",
       "      <td>-0.469783</td>\n",
       "      <td>-0.986097</td>\n",
       "      <td>-2.061965</td>\n",
       "      <td>-2.490484</td>\n",
       "      <td>-1.837048</td>\n",
       "      <td>-2.134447</td>\n",
       "      <td>-2.859713</td>\n",
       "    </tr>\n",
       "    <tr>\n",
       "      <th>2</th>\n",
       "      <td>20</td>\n",
       "      <td>2</td>\n",
       "      <td>0</td>\n",
       "      <td>0</td>\n",
       "      <td>Midwest Region</td>\n",
       "      <td>66927001</td>\n",
       "      <td>66929725</td>\n",
       "      <td>66974416</td>\n",
       "      <td>67157800</td>\n",
       "      <td>67336743</td>\n",
       "      <td>...</td>\n",
       "      <td>-2.365881</td>\n",
       "      <td>-0.963930</td>\n",
       "      <td>-0.973943</td>\n",
       "      <td>-0.006924</td>\n",
       "      <td>-0.762969</td>\n",
       "      <td>-1.388437</td>\n",
       "      <td>-1.241784</td>\n",
       "      <td>-0.557370</td>\n",
       "      <td>-0.922755</td>\n",
       "      <td>-1.111173</td>\n",
       "    </tr>\n",
       "    <tr>\n",
       "      <th>3</th>\n",
       "      <td>20</td>\n",
       "      <td>3</td>\n",
       "      <td>0</td>\n",
       "      <td>0</td>\n",
       "      <td>South Region</td>\n",
       "      <td>114555744</td>\n",
       "      <td>114563030</td>\n",
       "      <td>114866680</td>\n",
       "      <td>116006522</td>\n",
       "      <td>117241208</td>\n",
       "      <td>...</td>\n",
       "      <td>3.261349</td>\n",
       "      <td>5.130513</td>\n",
       "      <td>5.850458</td>\n",
       "      <td>5.292073</td>\n",
       "      <td>6.161501</td>\n",
       "      <td>7.277358</td>\n",
       "      <td>7.150074</td>\n",
       "      <td>6.198168</td>\n",
       "      <td>5.225519</td>\n",
       "      <td>5.203720</td>\n",
       "    </tr>\n",
       "    <tr>\n",
       "      <th>4</th>\n",
       "      <td>20</td>\n",
       "      <td>4</td>\n",
       "      <td>0</td>\n",
       "      <td>0</td>\n",
       "      <td>West Region</td>\n",
       "      <td>71945553</td>\n",
       "      <td>71946907</td>\n",
       "      <td>72100436</td>\n",
       "      <td>72788329</td>\n",
       "      <td>73477823</td>\n",
       "      <td>...</td>\n",
       "      <td>0.614245</td>\n",
       "      <td>2.723344</td>\n",
       "      <td>3.062896</td>\n",
       "      <td>3.162262</td>\n",
       "      <td>4.026429</td>\n",
       "      <td>4.987285</td>\n",
       "      <td>5.261078</td>\n",
       "      <td>4.021194</td>\n",
       "      <td>3.044951</td>\n",
       "      <td>2.312083</td>\n",
       "    </tr>\n",
       "  </tbody>\n",
       "</table>\n",
       "<p>5 rows × 151 columns</p>\n",
       "</div>"
      ],
      "text/plain": [
       "   SUMLEV REGION DIVISION  STATE              NAME  CENSUS2010POP  \\\n",
       "0      10      0        0      0     United States      308745538   \n",
       "1      20      1        0      0  Northeast Region       55317240   \n",
       "2      20      2        0      0    Midwest Region       66927001   \n",
       "3      20      3        0      0      South Region      114555744   \n",
       "4      20      4        0      0       West Region       71945553   \n",
       "\n",
       "   ESTIMATESBASE2010  POPESTIMATE2010  POPESTIMATE2011  POPESTIMATE2012  ...  \\\n",
       "0          308758105        309321666        311556874        313830990  ...   \n",
       "1           55318443         55380134         55604223         55775216  ...   \n",
       "2           66929725         66974416         67157800         67336743  ...   \n",
       "3          114563030        114866680        116006522        117241208  ...   \n",
       "4           71946907         72100436         72788329         73477823  ...   \n",
       "\n",
       "   RDOMESTICMIG2019  RNETMIG2011  RNETMIG2012  RNETMIG2013  RNETMIG2014  \\\n",
       "0          0.000000     2.493773     2.682083     2.636187     2.921500   \n",
       "1         -5.254530     0.887909    -0.038355    -0.469783    -0.986097   \n",
       "2         -2.365881    -0.963930    -0.973943    -0.006924    -0.762969   \n",
       "3          3.261349     5.130513     5.850458     5.292073     6.161501   \n",
       "4          0.614245     2.723344     3.062896     3.162262     4.026429   \n",
       "\n",
       "   RNETMIG2015  RNETMIG2016  RNETMIG2017  RNETMIG2018  RNETMIG2019  \n",
       "0     3.260435     3.252788     2.871957     2.153911     1.818059  \n",
       "1    -2.061965    -2.490484    -1.837048    -2.134447    -2.859713  \n",
       "2    -1.388437    -1.241784    -0.557370    -0.922755    -1.111173  \n",
       "3     7.277358     7.150074     6.198168     5.225519     5.203720  \n",
       "4     4.987285     5.261078     4.021194     3.044951     2.312083  \n",
       "\n",
       "[5 rows x 151 columns]"
      ]
     },
     "execution_count": 2,
     "metadata": {},
     "output_type": "execute_result"
    }
   ],
   "source": [
    "census_df = pd.read_csv('2010-2019 Census Data.csv')\n",
    "census_df.head()"
   ]
  },
  {
   "cell_type": "code",
   "execution_count": 3,
   "id": "15c118f1",
   "metadata": {},
   "outputs": [],
   "source": [
    "#drop unneeded columns\n",
    "census_df = census_df.iloc[:, 4:17]\n"
   ]
  },
  {
   "cell_type": "code",
   "execution_count": 4,
   "id": "39b0fa4b",
   "metadata": {},
   "outputs": [
    {
     "data": {
      "text/plain": [
       "NAME                 California\n",
       "CENSUS2010POP          37253956\n",
       "ESTIMATESBASE2010      37254519\n",
       "POPESTIMATE2010        37319502\n",
       "POPESTIMATE2011        37638369\n",
       "Name: 9, dtype: object"
      ]
     },
     "execution_count": 4,
     "metadata": {},
     "output_type": "execute_result"
    }
   ],
   "source": [
    "# will just do california for this notebook\n",
    "california_df = census_df.iloc[9]\n",
    "california_df.head()"
   ]
  },
  {
   "cell_type": "code",
   "execution_count": 5,
   "id": "d06d4332",
   "metadata": {},
   "outputs": [
    {
     "data": {
      "text/plain": [
       "CENSUS2010POP      37253956\n",
       "POPESTIMATE2011    37638369\n",
       "POPESTIMATE2012    37948800\n",
       "POPESTIMATE2013    38260787\n",
       "POPESTIMATE2014    38596972\n",
       "POPESTIMATE2015    38918045\n",
       "POPESTIMATE2016    39167117\n",
       "POPESTIMATE2017    39358497\n",
       "POPESTIMATE2018    39461588\n",
       "POPESTIMATE2019    39512223\n",
       "Name: 9, dtype: object"
      ]
     },
     "execution_count": 5,
     "metadata": {},
     "output_type": "execute_result"
    }
   ],
   "source": [
    "#dropping two more columns\n",
    "california_df=california_df.drop(['NAME','ESTIMATESBASE2010','POPESTIMATE2010'])\n",
    "california_df"
   ]
  },
  {
   "cell_type": "code",
   "execution_count": 6,
   "id": "faac0f10",
   "metadata": {},
   "outputs": [
    {
     "data": {
      "text/plain": [
       "2010    37253956\n",
       "2011    37638369\n",
       "2012    37948800\n",
       "2013    38260787\n",
       "2014    38596972\n",
       "2015    38918045\n",
       "2016    39167117\n",
       "2017    39358497\n",
       "2018    39461588\n",
       "2019    39512223\n",
       "Name: 9, dtype: object"
      ]
     },
     "execution_count": 6,
     "metadata": {},
     "output_type": "execute_result"
    }
   ],
   "source": [
    "#rename rows\n",
    "california_df=california_df.rename({\"CENSUS2010POP\": 2010, \"POPESTIMATE2011\": 2011, 'POPESTIMATE2012': 2012, 'POPESTIMATE2013':2013, \n",
    "                      'POPESTIMATE2014':2014,'POPESTIMATE2015':2015, 'POPESTIMATE2016':2016, \n",
    "                      'POPESTIMATE2017':2017, 'POPESTIMATE2018':2018, 'POPESTIMATE2019':2019}, axis='index')\n",
    "california_df"
   ]
  },
  {
   "cell_type": "code",
   "execution_count": 7,
   "id": "f83f12e0",
   "metadata": {},
   "outputs": [],
   "source": [
    "california_df = california_df.astype(int)"
   ]
  },
  {
   "cell_type": "code",
   "execution_count": 8,
   "id": "9b59ca35",
   "metadata": {},
   "outputs": [
    {
     "data": {
      "text/plain": [
       "2016    39167117\n",
       "2017    39358497\n",
       "2018    39461588\n",
       "2019    39512223\n",
       "Name: 9, dtype: int32"
      ]
     },
     "execution_count": 8,
     "metadata": {},
     "output_type": "execute_result"
    }
   ],
   "source": [
    "#train test split\n",
    "#lets do 6 years of training 4 of test\n",
    "training_data = california_df[0:6]\n",
    "\n",
    "test_data = california_df[6:]\n",
    "test_data\n"
   ]
  },
  {
   "cell_type": "code",
   "execution_count": null,
   "id": "ed3448df",
   "metadata": {},
   "outputs": [],
   "source": []
  },
  {
   "cell_type": "code",
   "execution_count": 9,
   "id": "bc9f63ab",
   "metadata": {},
   "outputs": [],
   "source": [
    "#EDF"
   ]
  },
  {
   "cell_type": "code",
   "execution_count": 10,
   "id": "9dc2adff",
   "metadata": {},
   "outputs": [
    {
     "data": {
      "text/plain": [
       "[<matplotlib.lines.Line2D at 0x249c9269988>]"
      ]
     },
     "execution_count": 10,
     "metadata": {},
     "output_type": "execute_result"
    },
    {
     "data": {
      "image/png": "[encoded data removed]",
      "text/plain": [
       "<Figure size 720x432 with 1 Axes>"
      ]
     },
     "metadata": {
      "needs_background": "light"
     },
     "output_type": "display_data"
    }
   ],
   "source": [
    "plt.plot(training_data)"
   ]
  },
  {
   "cell_type": "code",
   "execution_count": 11,
   "id": "26cd553f",
   "metadata": {},
   "outputs": [
    {
     "data": {
      "text/plain": [
       "<AxesSubplot:xlabel='Lag', ylabel='Autocorrelation'>"
      ]
     },
     "execution_count": 11,
     "metadata": {},
     "output_type": "execute_result"
    },
    {
     "data": {
      "image/png": "[encoded data removed]",
      "text/plain": [
       "<Figure size 720x432 with 1 Axes>"
      ]
     },
     "metadata": {
      "needs_background": "light"
     },
     "output_type": "display_data"
    }
   ],
   "source": [
    "#auto correlation\n",
    "autocorrelation_plot(training_data)"
   ]
  },
  {
   "cell_type": "code",
   "execution_count": 12,
   "id": "c324f59c",
   "metadata": {},
   "outputs": [
    {
     "name": "stderr",
     "output_type": "stream",
     "text": [
      "C:\\Users\\djkri\\anaconda3\\envs\\mlenv\\lib\\site-packages\\statsmodels\\graphics\\tsaplots.py:353: FutureWarning: The default method 'yw' can produce PACF values outside of the [-1,1] interval. After 0.13, the default will change tounadjusted Yule-Walker ('ywm'). You can use this method now by setting method='ywm'.\n",
      "  FutureWarning,\n"
     ]
    },
    {
     "data": {
      "image/png": "[encoded data removed]",
      "text/plain": [
       "<Figure size 720x432 with 1 Axes>"
      ]
     },
     "metadata": {
      "needs_background": "light"
     },
     "output_type": "display_data"
    }
   ],
   "source": [
    "#partial auto correlation\n",
    "plot_pacf(training_data, lags= 2)\n",
    "plt.show()"
   ]
  },
  {
   "cell_type": "code",
   "execution_count": 13,
   "id": "0a7648b2",
   "metadata": {},
   "outputs": [],
   "source": [
    "#orders for arima model \n",
    "# 1 or 2 for p\n",
    "# 2 for Q\n",
    "# 0 for d"
   ]
  },
  {
   "cell_type": "code",
   "execution_count": 14,
   "id": "b03eb62d",
   "metadata": {},
   "outputs": [
    {
     "data": {
      "text/plain": [
       "array([37253956, 37638369, 37948800, 38260787, 38596972, 38918045])"
      ]
     },
     "execution_count": 14,
     "metadata": {},
     "output_type": "execute_result"
    }
   ],
   "source": [
    "training_data.values"
   ]
  },
  {
   "cell_type": "code",
   "execution_count": 1,
   "id": "fe8d6f06",
   "metadata": {},
   "outputs": [
    {
     "ename": "NameError",
     "evalue": "name 'ARIMA' is not defined",
     "output_type": "error",
     "traceback": [
      "\u001b[1;31m---------------------------------------------------------------------------\u001b[0m",
      "\u001b[1;31mNameError\u001b[0m                                 Traceback (most recent call last)",
      "\u001b[1;32m~\\AppData\\Local\\Temp\\ipykernel_4812\\52022531.py\u001b[0m in \u001b[0;36m<module>\u001b[1;34m\u001b[0m\n\u001b[0;32m      1\u001b[0m \u001b[1;31m#arima model\u001b[0m\u001b[1;33m\u001b[0m\u001b[1;33m\u001b[0m\u001b[1;33m\u001b[0m\u001b[0m\n\u001b[1;32m----> 2\u001b[1;33m \u001b[0mmodel\u001b[0m \u001b[1;33m=\u001b[0m \u001b[0mARIMA\u001b[0m\u001b[1;33m(\u001b[0m\u001b[0mtraining_data\u001b[0m\u001b[1;33m,\u001b[0m \u001b[0morder\u001b[0m\u001b[1;33m=\u001b[0m\u001b[1;33m(\u001b[0m\u001b[1;36m1\u001b[0m\u001b[1;33m,\u001b[0m\u001b[1;36m1\u001b[0m\u001b[1;33m,\u001b[0m\u001b[1;36m1\u001b[0m\u001b[1;33m)\u001b[0m\u001b[1;33m)\u001b[0m\u001b[1;33m\u001b[0m\u001b[1;33m\u001b[0m\u001b[0m\n\u001b[0m\u001b[0;32m      3\u001b[0m \u001b[0mresults_AR\u001b[0m \u001b[1;33m=\u001b[0m \u001b[0mmodel\u001b[0m\u001b[1;33m.\u001b[0m\u001b[0mfit\u001b[0m\u001b[1;33m(\u001b[0m\u001b[1;33m)\u001b[0m\u001b[1;33m\u001b[0m\u001b[1;33m\u001b[0m\u001b[0m\n\u001b[0;32m      4\u001b[0m \u001b[0mprint\u001b[0m\u001b[1;33m(\u001b[0m\u001b[0mresults_AR\u001b[0m\u001b[1;33m.\u001b[0m\u001b[0msummary\u001b[0m\u001b[1;33m(\u001b[0m\u001b[1;33m)\u001b[0m\u001b[1;33m)\u001b[0m\u001b[1;33m\u001b[0m\u001b[1;33m\u001b[0m\u001b[0m\n\u001b[0;32m      5\u001b[0m \u001b[0mresiduals\u001b[0m \u001b[1;33m=\u001b[0m \u001b[0mresults_AR\u001b[0m\u001b[1;33m.\u001b[0m\u001b[0mresid\u001b[0m\u001b[1;33m\u001b[0m\u001b[1;33m\u001b[0m\u001b[0m\n",
      "\u001b[1;31mNameError\u001b[0m: name 'ARIMA' is not defined"
     ]
    }
   ],
   "source": [
    "#arima model\n",
    "model = ARIMA(training_data, order=(1,1,1))\n",
    "results_AR = model.fit()\n",
    "print(results_AR.summary())\n",
    "residuals = results_AR.resid\n",
    "residuals.plot()\n",
    "plt.show()\n"
   ]
  },
  {
   "cell_type": "code",
   "execution_count": 38,
   "id": "ea0daf3c",
   "metadata": {},
   "outputs": [
    {
     "data": {
      "image/png": "[encoded data removed]",
      "text/plain": [
       "<Figure size 720x432 with 1 Axes>"
      ]
     },
     "metadata": {
      "needs_background": "light"
     },
     "output_type": "display_data"
    },
    {
     "name": "stdout",
     "output_type": "stream",
     "text": [
      "count    6.000000e+00\n",
      "mean     7.697929e+04\n",
      "std      2.341915e+07\n",
      "min     -3.680299e+07\n",
      "25%     -1.132816e+04\n",
      "50%      9.382138e+02\n",
      "75%      1.857262e+04\n",
      "max      3.725396e+07\n",
      "dtype: float64\n"
     ]
    }
   ],
   "source": [
    "residuals.plot(kind='kde')\n",
    "plt.show()\n",
    "print(residuals.describe())"
   ]
  },
  {
   "cell_type": "code",
   "execution_count": 39,
   "id": "03e7c8f5",
   "metadata": {},
   "outputs": [
    {
     "name": "stderr",
     "output_type": "stream",
     "text": [
      "C:\\Users\\djkri\\anaconda3\\envs\\mlenv\\lib\\site-packages\\statsmodels\\tsa\\base\\tsa_model.py:843: ValueWarning: No supported index is available. Prediction results will be given with an integer index beginning at `start`.\n",
      "  data=self.data,\n"
     ]
    },
    {
     "data": {
      "text/plain": [
       "6    3.923909e+07\n",
       "7    3.956013e+07\n",
       "8    3.988117e+07\n",
       "9    4.020221e+07\n",
       "Name: predicted_mean, dtype: float64"
      ]
     },
     "execution_count": 39,
     "metadata": {},
     "output_type": "execute_result"
    }
   ],
   "source": [
    "#making predictions\n",
    "y_pred = pd.Series(results_AR.forecast(4))\n",
    "y_pred"
   ]
  },
  {
   "cell_type": "code",
   "execution_count": 40,
   "id": "ccaf9fe5",
   "metadata": {},
   "outputs": [
    {
     "data": {
      "image/png": "[encoded data removed]",
      "text/plain": [
       "<Figure size 720x432 with 1 Axes>"
      ]
     },
     "metadata": {
      "needs_background": "light"
     },
     "output_type": "display_data"
    }
   ],
   "source": [
    "#rename forecast index to correct years\n",
    "y_pred= y_pred.rename({6:2016, 7:2017, 8:2018, 9:2019})\n",
    "y_pred.plot()\n",
    "plt.show()\n"
   ]
  },
  {
   "cell_type": "code",
   "execution_count": 41,
   "id": "69ccd389",
   "metadata": {},
   "outputs": [
    {
     "data": {
      "image/png": "[encoded data removed]",
      "text/plain": [
       "<Figure size 720x432 with 1 Axes>"
      ]
     },
     "metadata": {
      "needs_background": "light"
     },
     "output_type": "display_data"
    }
   ],
   "source": [
    "#now plot the model predictions and the test data\n",
    "y_real = test_data\n",
    "y_pred.plot(color='red', label = \"Predicted Values\")\n",
    "y_real.plot(color='blue', label = \"Real Values\")\n",
    "plt.xlabel(\"Year\")\n",
    "plt.ylabel('Population in Tens of Millions')\n",
    "plt.legend()\n",
    "plt.show()"
   ]
  },
  {
   "cell_type": "code",
   "execution_count": 252,
   "id": "3bf720e7",
   "metadata": {},
   "outputs": [
    {
     "name": "stdout",
     "output_type": "stream",
     "text": [
      "MAPE: 0.0034060783471728277 \n",
      "MASE: 0.403814862162582\n"
     ]
    }
   ],
   "source": [
    "# prediction analysis\n",
    "#mean absolute percent error\n",
    "mape = np.mean(np.abs(y_pred-y_real)/np.abs(y_real))\n",
    "\n",
    "#mean absolute scaled error\n",
    "n = training_data.shape[0]\n",
    "d = np.abs(np.diff(training_data)).sum()/(n-1)\n",
    "errors = np.abs(y_real - y_pred)\n",
    "mase = errors.mean()/d\n",
    "print(f\"MAPE: {mape}\",\n",
    "     f\"\\nMASE: {mase}\")"
   ]
  },
  {
   "cell_type": "code",
   "execution_count": 253,
   "id": "6bf6e503",
   "metadata": {},
   "outputs": [],
   "source": [
    "#mape and mase are good for time series as they can deal with the scale of a time series forecast better than other \n",
    "#methods of accuracy/error calculation\n",
    "\n",
    "#mase compares the predictions of the model to a naive model, meaning a model that uses the last observed value as the value\n",
    "# for all of the predictions\n",
    "# a mase of 1 means that the model is just as accurate as picking the last observed value over and over as the prediction\n",
    "# a mase of 0.5 means that the model is twice as accurate as the naive model\n",
    "\n",
    "\n",
    "#the mape is a measure of error that is scale independent so it is useful for evaluating error of time series forecasting\n",
    "#the mape is represented as a percentage\n",
    "# so our mape of 0.3% should be considered a relatively good error."
   ]
  },
  {
   "cell_type": "code",
   "execution_count": 254,
   "id": "4825eec0",
   "metadata": {},
   "outputs": [],
   "source": [
    "#room for improvement for sure i think\n",
    "# the plot looks kind of. you can faintly see the two elbows that are present in \n",
    "#the real values appear in the predicted graph. And at the correct years. \n",
    "# it mostly just seems like the magnitude of the values are off but the general trend of the values is there"
   ]
  },
  {
   "cell_type": "code",
   "execution_count": null,
   "id": "adab9054",
   "metadata": {},
   "outputs": [],
   "source": []
  }
 ],
 "metadata": {
  "kernelspec": {
   "display_name": "mlenv",
   "language": "python",
   "name": "mlenv"
  },
  "language_info": {
   "codemirror_mode": {
    "name": "ipython",
    "version": 3
   },
   "file_extension": ".py",
   "mimetype": "text/x-python",
   "name": "python",
   "nbconvert_exporter": "python",
   "pygments_lexer": "ipython3",
   "version": "3.7.13"
  }
 },
 "nbformat": 4,
 "nbformat_minor": 5
}
