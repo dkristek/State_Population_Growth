{
 "cells": [
  {
   "cell_type": "markdown",
   "id": "0cc47be2",
   "metadata": {},
   "source": [
    "#### Time Series Practice using non relevant data\n",
    "Just some practice until the preliminary database is set up."
   ]
  },
  {
   "cell_type": "code",
   "execution_count": 1,
   "id": "2dfd18fd",
   "metadata": {},
   "outputs": [],
   "source": [
    "import pandas as pd \n",
    "from matplotlib import pyplot as plt\n",
    "from statsmodels.tsa.arima_model import ARIMA"
   ]
  },
  {
   "cell_type": "code",
   "execution_count": null,
   "id": "44aaca3d",
   "metadata": {},
   "outputs": [],
   "source": []
  }
 ],
 "metadata": {
  "kernelspec": {
   "display_name": "mlenv",
   "language": "python",
   "name": "mlenv"
  },
  "language_info": {
   "codemirror_mode": {
    "name": "ipython",
    "version": 3
   },
   "file_extension": ".py",
   "mimetype": "text/x-python",
   "name": "python",
   "nbconvert_exporter": "python",
   "pygments_lexer": "ipython3",
   "version": "3.7.13"
  }
 },
 "nbformat": 4,
 "nbformat_minor": 5
}
