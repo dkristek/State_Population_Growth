{
 "cells": [
  {
   "cell_type": "markdown",
   "id": "c7e7a4bc",
   "metadata": {},
   "source": [
    "#### Time Series Practice using non relevant data\n",
    "Just some practice until the preliminary database is set up.\n",
    "The data is North American emissions since 1949"
   ]
  },
  {
   "cell_type": "code",
   "execution_count": 28,
   "id": "72c60d5a",
   "metadata": {},
   "outputs": [
    {
     "data": {
      "text/html": [
       "<div>\n",
       "<style scoped>\n",
       "    .dataframe tbody tr th:only-of-type {\n",
       "        vertical-align: middle;\n",
       "    }\n",
       "\n",
       "    .dataframe tbody tr th {\n",
       "        vertical-align: top;\n",
       "    }\n",
       "\n",
       "    .dataframe thead th {\n",
       "        text-align: right;\n",
       "    }\n",
       "</style>\n",
       "<table border=\"1\" class=\"dataframe\">\n",
       "  <thead>\n",
       "    <tr style=\"text-align: right;\">\n",
       "      <th></th>\n",
       "      <th>Unnamed: 0</th>\n",
       "      <th>CO2 emissions, North America, Annual (million metric tonnes carbon dioxide)</th>\n",
       "    </tr>\n",
       "  </thead>\n",
       "  <tbody>\n",
       "    <tr>\n",
       "      <th>0</th>\n",
       "      <td>1949</td>\n",
       "      <td>2206.690829</td>\n",
       "    </tr>\n",
       "    <tr>\n",
       "      <th>1</th>\n",
       "      <td>1950</td>\n",
       "      <td>2382.046176</td>\n",
       "    </tr>\n",
       "    <tr>\n",
       "      <th>2</th>\n",
       "      <td>1951</td>\n",
       "      <td>2526.687327</td>\n",
       "    </tr>\n",
       "    <tr>\n",
       "      <th>3</th>\n",
       "      <td>1952</td>\n",
       "      <td>2473.373964</td>\n",
       "    </tr>\n",
       "    <tr>\n",
       "      <th>4</th>\n",
       "      <td>1953</td>\n",
       "      <td>2536.892888</td>\n",
       "    </tr>\n",
       "  </tbody>\n",
       "</table>\n",
       "</div>"
      ],
      "text/plain": [
       "   Unnamed: 0  CO2 emissions, North America, Annual (million metric tonnes carbon dioxide)\n",
       "0        1949                                        2206.690829                          \n",
       "1        1950                                        2382.046176                          \n",
       "2        1951                                        2526.687327                          \n",
       "3        1952                                        2473.373964                          \n",
       "4        1953                                        2536.892888                          "
      ]
     },
     "execution_count": 28,
     "metadata": {},
     "output_type": "execute_result"
    }
   ],
   "source": [
    "import pandas as pd \n",
    "from matplotlib import pyplot as plt\n",
    "from statsmodels.tsa.arima.model import ARIMA\n",
    "from statsmodels.graphics.tsaplots import plot_acf, plot_pacf\n",
    "\n",
    "naem_df = pd.read_csv('NA_Emissions.csv')\n",
    "naem_df.head()"
   ]
  },
  {
   "cell_type": "code",
   "execution_count": 9,
   "id": "6d31a685",
   "metadata": {},
   "outputs": [
    {
     "data": {
      "text/html": [
       "<div>\n",
       "<style scoped>\n",
       "    .dataframe tbody tr th:only-of-type {\n",
       "        vertical-align: middle;\n",
       "    }\n",
       "\n",
       "    .dataframe tbody tr th {\n",
       "        vertical-align: top;\n",
       "    }\n",
       "\n",
       "    .dataframe thead th {\n",
       "        text-align: right;\n",
       "    }\n",
       "</style>\n",
       "<table border=\"1\" class=\"dataframe\">\n",
       "  <thead>\n",
       "    <tr style=\"text-align: right;\">\n",
       "      <th></th>\n",
       "      <th>Year</th>\n",
       "      <th>Emissions</th>\n",
       "    </tr>\n",
       "  </thead>\n",
       "  <tbody>\n",
       "    <tr>\n",
       "      <th>0</th>\n",
       "      <td>1949</td>\n",
       "      <td>2206.690829</td>\n",
       "    </tr>\n",
       "    <tr>\n",
       "      <th>1</th>\n",
       "      <td>1950</td>\n",
       "      <td>2382.046176</td>\n",
       "    </tr>\n",
       "    <tr>\n",
       "      <th>2</th>\n",
       "      <td>1951</td>\n",
       "      <td>2526.687327</td>\n",
       "    </tr>\n",
       "    <tr>\n",
       "      <th>3</th>\n",
       "      <td>1952</td>\n",
       "      <td>2473.373964</td>\n",
       "    </tr>\n",
       "    <tr>\n",
       "      <th>4</th>\n",
       "      <td>1953</td>\n",
       "      <td>2536.892888</td>\n",
       "    </tr>\n",
       "  </tbody>\n",
       "</table>\n",
       "</div>"
      ],
      "text/plain": [
       "   Year    Emissions\n",
       "0  1949  2206.690829\n",
       "1  1950  2382.046176\n",
       "2  1951  2526.687327\n",
       "3  1952  2473.373964\n",
       "4  1953  2536.892888"
      ]
     },
     "execution_count": 9,
     "metadata": {},
     "output_type": "execute_result"
    }
   ],
   "source": [
    "naem_df=naem_df.rename(columns={\"Unnamed: 0\":\"Year\", \"CO2 emissions, North America, Annual (million metric tonnes carbon dioxide)\":\"Emissions\"})\n",
    "naem_df.head()"
   ]
  },
  {
   "cell_type": "code",
   "execution_count": 10,
   "id": "79ea9d2f",
   "metadata": {},
   "outputs": [
    {
     "data": {
      "text/plain": [
       "[<matplotlib.lines.Line2D at 0x2669d4b0ac8>]"
      ]
     },
     "execution_count": 10,
     "metadata": {},
     "output_type": "execute_result"
    },
    {
     "data": {
      "image/png": "[encoded data removed]",
      "text/plain": [
       "<Figure size 432x288 with 1 Axes>"
      ]
     },
     "metadata": {
      "needs_background": "light"
     },
     "output_type": "display_data"
    }
   ],
   "source": [
    "y= naem_df['Emissions']\n",
    "X = naem_df['Year']\n",
    "plt.plot(X,y)"
   ]
  },
  {
   "cell_type": "code",
   "execution_count": 19,
   "id": "e01e9cff",
   "metadata": {},
   "outputs": [
    {
     "data": {
      "image/png": "[encoded data removed]",
      "text/plain": [
       "<Figure size 432x288 with 1 Axes>"
      ]
     },
     "metadata": {
      "needs_background": "light"
     },
     "output_type": "display_data"
    }
   ],
   "source": [
    "plot_acf(y, lags=30)\n",
    "plt.show()\n",
    "# this autocorrelation plot is used to help determine the amount of differencing (the d term in ARIMA) needed in the ARIMA model\n",
    "# a positive autocorrelation at lag-1 shows that some amount of differencing is needed.\n",
    "# the autocorrelation doesn't get close to zero until after lag-20 which suggests that a high amount of differencing is needed"
   ]
  },
  {
   "cell_type": "code",
   "execution_count": 23,
   "id": "78a7dc65",
   "metadata": {},
   "outputs": [
    {
     "data": {
      "image/png": "[encoded data removed]",
      "text/plain": [
       "<Figure size 432x288 with 1 Axes>"
      ]
     },
     "metadata": {
      "needs_background": "light"
     },
     "output_type": "display_data"
    }
   ],
   "source": [
    "plot_pacf(y,lags=10, method='ywm')\n",
    "plt.show()\n",
    "\n",
    "# the partial autocorrelation graph is used to determine the value for the p order in the ARIMA model\n",
    "# there is a sharp cutoff in the partial autocorrelation graph at lag-1. \n",
    "# when this is the case and there is a positive autocorrelation at lag-1 (which is shown in the previous graph)\n",
    "# the value for p can be set to the number of the lag at which the partial autocorrelation cuts off. 1 in this case"
   ]
  },
  {
   "cell_type": "code",
   "execution_count": 31,
   "id": "49964b56",
   "metadata": {},
   "outputs": [],
   "source": [
    "#ARIMA\n",
    "#Auto-Regressive Integreation Moving-Average\n",
    "\n",
    "# three terms that I need to use for the ARIMA model\n",
    "# p is the number of autoregressive terms (if the data is not stationary, has a trend or seasonality, we need this term to make it stationary)\n",
    "#d is the number of nonseasonal differences needed to make it stationary\n",
    "#q is the number of lagged forecast errors in the prediction equation.\n",
    "\n",
    "# this data is not stationary (meaning it has a trend) so we need a value for d, i'll start with 2 and adjust from there\n",
    "# as stated in the above cell i will use a p value of 1 at first\n",
    "\n",
    "# the q term will be set to 0. This term should have a value if the data shows signs of being overdifferenced which can be determined by \n",
    "#the auto correlation graph. An overdifferenced dataset would have a negative lag-1 which this data does not have\n"
   ]
  },
  {
   "cell_type": "code",
   "execution_count": 39,
   "id": "f4a87969",
   "metadata": {},
   "outputs": [
    {
     "name": "stdout",
     "output_type": "stream",
     "text": [
      "                               SARIMAX Results                                \n",
      "==============================================================================\n",
      "Dep. Variable:              Emissions   No. Observations:                   70\n",
      "Model:                 ARIMA(2, 1, 0)   Log Likelihood                -445.052\n",
      "Date:                Fri, 08 Jul 2022   AIC                            896.104\n",
      "Time:                        16:47:24   BIC                            902.806\n",
      "Sample:                             0   HQIC                           898.763\n",
      "                                 - 70                                         \n",
      "Covariance Type:                  opg                                         \n",
      "==============================================================================\n",
      "                 coef    std err          z      P>|z|      [0.025      0.975]\n",
      "------------------------------------------------------------------------------\n",
      "ar.L1          0.2345      0.103      2.269      0.023       0.032       0.437\n",
      "ar.L2         -0.1018      0.121     -0.845      0.398      -0.338       0.134\n",
      "sigma2      2.354e+04   4189.911      5.619      0.000    1.53e+04    3.18e+04\n",
      "===================================================================================\n",
      "Ljung-Box (L1) (Q):                   0.57   Jarque-Bera (JB):                 2.47\n",
      "Prob(Q):                              0.45   Prob(JB):                         0.29\n",
      "Heteroskedasticity (H):               1.55   Skew:                            -0.39\n",
      "Prob(H) (two-sided):                  0.30   Kurtosis:                         3.51\n",
      "===================================================================================\n",
      "\n",
      "Warnings:\n",
      "[1] Covariance matrix calculated using the outer product of gradients (complex-step).\n"
     ]
    },
    {
     "data": {
      "image/png": "[encoded data removed]",
      "text/plain": [
       "<Figure size 432x288 with 1 Axes>"
      ]
     },
     "metadata": {
      "needs_background": "light"
     },
     "output_type": "display_data"
    },
    {
     "data": {
      "image/png": "[encoded data removed]",
      "text/plain": [
       "<Figure size 432x288 with 1 Axes>"
      ]
     },
     "metadata": {
      "needs_background": "light"
     },
     "output_type": "display_data"
    },
    {
     "name": "stdout",
     "output_type": "stream",
     "text": [
      "                 0\n",
      "count    70.000000\n",
      "mean     83.564798\n",
      "std     294.835009\n",
      "min    -383.910472\n",
      "25%     -16.719605\n",
      "50%      70.944494\n",
      "75%     128.894474\n",
      "max    2206.690829\n"
     ]
    }
   ],
   "source": [
    "#okay time to try the first attempt at modeling\n",
    "model = ARIMA(y, order=(2,1,0))\n",
    "model_fit = model.fit()\n",
    "print(model_fit.summary())\n",
    "\n",
    "#plot it\n",
    "residuals = pd.DataFrame(model_fit.resid)\n",
    "residuals.plot()\n",
    "plt.show()\n",
    "\n",
    "#error\n",
    "residuals.plot(kind='kde')\n",
    "plt.show()\n",
    "\n",
    "print(residuals.describe())"
   ]
  },
  {
   "cell_type": "code",
   "execution_count": null,
   "id": "a179383a",
   "metadata": {},
   "outputs": [],
   "source": []
  },
  {
   "cell_type": "code",
   "execution_count": null,
   "id": "633d3aff",
   "metadata": {},
   "outputs": [],
   "source": []
  }
 ],
 "metadata": {
  "kernelspec": {
   "display_name": "mlenv",
   "language": "python",
   "name": "mlenv"
  },
  "language_info": {
   "codemirror_mode": {
    "name": "ipython",
    "version": 3
   },
   "file_extension": ".py",
   "mimetype": "text/x-python",
   "name": "python",
   "nbconvert_exporter": "python",
   "pygments_lexer": "ipython3",
   "version": "3.7.13"
  }
 },
 "nbformat": 4,
 "nbformat_minor": 5
}
